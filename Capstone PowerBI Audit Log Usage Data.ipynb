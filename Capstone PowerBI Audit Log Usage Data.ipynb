{
 "cells": [
  {
   "cell_type": "markdown",
   "id": "946e8bc4",
   "metadata": {},
   "source": [
    "# Capstone PowerBI Audit Log Usage Data\n",
    "\n",
    "This Databricks notebook is a compilation of the PowerBI audit log ingestion and transformation file and the recommendation engine project. \n",
    "\n",
    "Last updated: 12/08/2022"
   ]
  },
  {
   "cell_type": "markdown",
   "id": "87cff443",
   "metadata": {},
   "source": [
    "## Part 1: Data collection/ingestion"
   ]
  },
  {
   "cell_type": "markdown",
   "id": "3f16c968",
   "metadata": {},
   "source": [
    "### Install and import libraries"
   ]
  },
  {
   "cell_type": "code",
   "execution_count": 2,
   "id": "1530c914",
   "metadata": {},
   "outputs": [],
   "source": [
    "import json\n",
    "import pandas as pd\n",
    "import numpy as np"
   ]
  },
  {
   "cell_type": "markdown",
   "id": "903404cc",
   "metadata": {},
   "source": [
    "### Data collection\n",
    "\n",
    "Pipeline deposits data into hc_datalake: eids_fs storage container in Raw. Data must be read from Raw and analyzed in Refined per organization standards"
   ]
  },
  {
   "cell_type": "code",
   "execution_count": 4,
   "id": "67ece086",
   "metadata": {},
   "outputs": [],
   "source": [
    "#raw folder datapath\n",
    "raw_datapath = \"/dbfs/mnt/ca/Raw/CountyAdmin/PBI_usage/\"\n",
    "\n",
    "#refined folder datapath\n",
    "refined_datapath = \"/dbfs/mnt/ca/Refined/CountyAdmin/PBI_usage/\"\n",
    "\n",
    "#empty data container\n",
    "data = []\n",
    "\n",
    "#read in json file\n",
    "for line in open(raw_datapath + 'PowerBI_Log.json', 'r'):\n",
    "    data.append(json.loads(line))\n",
    "    \n",
    "#transform into pandas dataframe\n",
    "pd_usagedata = pd.DataFrame(data)\n",
    "\n",
    "#save pandas dataframe back to raw for preservation as csv and to refinsed for transformations\n",
    "pd_usagedata.to_csv(raw_datapath + 'pbi_usagedata.csv', index = False)\n",
    "pd_usagedata.to_csv(refined_datapath + 'pbi_usagedata.csv', index = False)"
   ]
  },
  {
   "cell_type": "code",
   "execution_count": null,
   "id": "6b103399",
   "metadata": {},
   "outputs": [],
   "source": [
    "#checkpoint\n",
    "pd_usagedata.head()"
   ]
  },
  {
   "cell_type": "markdown",
   "id": "406181f5",
   "metadata": {},
   "source": [
    "## Part 2: Exploratory Analysis"
   ]
  },
  {
   "cell_type": "code",
   "execution_count": null,
   "id": "4f0f1be4",
   "metadata": {},
   "outputs": [],
   "source": [
    "#read in data from refined\n",
    "usage_data= pd.read_csv(refined_datapath + 'pbi_usagedata.csv')"
   ]
  },
  {
   "cell_type": "code",
   "execution_count": null,
   "id": "42d51e6c",
   "metadata": {},
   "outputs": [],
   "source": [
    "useage_data.shape"
   ]
  },
  {
   "cell_type": "code",
   "execution_count": null,
   "id": "44aef00e",
   "metadata": {},
   "outputs": [],
   "source": [
    "with pd.option_context('display.max_rows', None, 'display.max_columns', None):  # more options can be specified also\n",
    "    print(usage_data.WorkSpaceName.value_counts())"
   ]
  },
  {
   "cell_type": "code",
   "execution_count": null,
   "id": "1d9b7a7c",
   "metadata": {},
   "outputs": [],
   "source": [
    "#change the names of the workspaces to be an accurate reflection of workspaces\n",
    "\n",
    "def workspace(x):\n",
    "    \"\"\" Function to correctly name the workspaces managed by IDA \"\"\"\n",
    "    \n",
    "    if x == 'HC.COVID-19 Response':\n",
    "        return 'COVID-19 Response'\n",
    "    \n",
    "    elif x == 'HC.Analytics':\n",
    "        return 'Hennepin Analytics'\n",
    "    \n",
    "    elif x == 'HC.Labs':\n",
    "        return 'Hennepin Labs'\n",
    "    \n",
    "    elif x == 'HC.DisparityReduction':\n",
    "        return 'Disparity Reduction'\n",
    "    \n",
    "    elif x == 'CIE.Analytics':\n",
    "        return 'IDA Analytics'\n",
    "    \n",
    "    else:\n",
    "        return 'IDA Analytics'\n",
    "\n",
    "#apply the function on the workspace\n",
    "usage_data['ApplicationWorkSpace'] = usage_data['WorkSpaceName'].apply(workspace)"
   ]
  },
  {
   "cell_type": "code",
   "execution_count": null,
   "id": "668ab249",
   "metadata": {},
   "outputs": [],
   "source": [
    "#remove COVID-19 Workspace\n",
    "usage_data = usage_data[usage_data.ApplicationWorkSpace != 'COVID-19 Response'] # remove COVID-19 "
   ]
  },
  {
   "cell_type": "code",
   "execution_count": null,
   "id": "f02b88e4",
   "metadata": {},
   "outputs": [],
   "source": [
    "with pd.option_context('display.max_rows', None, 'display.max_columns', None):  # more options can be specified also\n",
    "    print(usage_data.WorkSpaceName.value_counts())\n"
   ]
  },
  {
   "cell_type": "code",
   "execution_count": null,
   "id": "dea1d0ed",
   "metadata": {},
   "outputs": [],
   "source": [
    "usage_data.shape\n"
   ]
  },
  {
   "cell_type": "code",
   "execution_count": null,
   "id": "5f688de0",
   "metadata": {},
   "outputs": [],
   "source": [
    "with pd.option_context('display.max_rows', None, 'display.max_columns', None):  # more options can be specified also\n",
    "    print(usage_data.Activity.value_counts())"
   ]
  },
  {
   "cell_type": "code",
   "execution_count": null,
   "id": "75bb452f",
   "metadata": {},
   "outputs": [],
   "source": [
    "usage_data = usage_data[usage_data.Activity == 'ViewReport'] # keep activities of report views"
   ]
  },
  {
   "cell_type": "code",
   "execution_count": null,
   "id": "393ccc71",
   "metadata": {},
   "outputs": [],
   "source": [
    "usage_data.shape"
   ]
  },
  {
   "cell_type": "code",
   "execution_count": null,
   "id": "714ab4a5",
   "metadata": {},
   "outputs": [],
   "source": [
    "#Staff file = IDA staff and who has access to HC Analytics\n",
    "\n",
    "staff_pd = pd.read_csv(raw_datapath + 'staff.csv')\n",
    "#staff_pd.to_csv(raw_datapath +'staff.csv')\n",
    "staff_pd.to_csv(refined_datapath +'staff.csv')\n",
    "\n",
    "staff = pd.read_csv(refined_datapath+'staff.csv')\n",
    "staff.head(10)"
   ]
  },
  {
   "cell_type": "code",
   "execution_count": null,
   "id": "1080a618",
   "metadata": {},
   "outputs": [],
   "source": [
    "ida_staff_freq = pd.crosstab(index=staff['IDA_team'], columns='count') \n",
    "ida_staff_freq.head()"
   ]
  },
  {
   "cell_type": "code",
   "execution_count": null,
   "id": "1703cdab",
   "metadata": {},
   "outputs": [],
   "source": [
    "#how many decision-makers are part of the Hennepin Analytics access group\n",
    "hennanalytics_staff_freq = pd.crosstab(index=staff['HennAnalytics'], columns='count') \n",
    "hennanalytics_staff_freq.head()"
   ]
  },
  {
   "cell_type": "code",
   "execution_count": null,
   "id": "8fb70211",
   "metadata": {},
   "outputs": [],
   "source": [
    "#Identify IDA staff and those with Hennepin Analytics access\n",
    "usage_data['IDA'] = usage_data['UserId'].map(staff.set_index('UserId')['IDA_team'])\n",
    "usage_data['HennAnalytics_access'] = usage_data['UserId'].map(staff.set_index('UserId')['HennAnalytics'])        \n",
    "\n",
    "#check the set\n",
    "#usage_data.head()"
   ]
  },
  {
   "cell_type": "code",
   "execution_count": null,
   "id": "55f250d6",
   "metadata": {},
   "outputs": [],
   "source": [
    "with pd.option_context('display.max_rows', None, 'display.max_columns', None):  # more options can be specified also\n",
    "    print(usage_data.IDA.value_counts())"
   ]
  },
  {
   "cell_type": "code",
   "execution_count": null,
   "id": "70403f44",
   "metadata": {},
   "outputs": [],
   "source": [
    "usage_data.info()"
   ]
  },
  {
   "cell_type": "code",
   "execution_count": null,
   "id": "52ee0fe9",
   "metadata": {},
   "outputs": [],
   "source": [
    "usage_data = usage_data[usage_data.IDA != 'IDA'] # remove IDA staff from views\n",
    "\n",
    "#check point\n",
    "#usage_data.head()"
   ]
  },
  {
   "cell_type": "code",
   "execution_count": null,
   "id": "8999ada8",
   "metadata": {},
   "outputs": [],
   "source": [
    "# counting unique values\n",
    "unique_reports = len(pd.unique(usage_data['ReportName']))\n",
    "\n",
    "unique_people = len(pd.unique(usage_data['UserKey']))\n",
    "  \n",
    "print(\"Number of unique reports:\", unique_reports, \"and Number of unique users:\", unique_people)"
   ]
  },
  {
   "cell_type": "code",
   "execution_count": null,
   "id": "63433589",
   "metadata": {},
   "outputs": [],
   "source": [
    "with pd.option_context('display.max_rows', None, 'display.max_columns', None):  # more options can be specified also\n",
    "    print(usage_data.UserKey.value_counts())"
   ]
  },
  {
   "cell_type": "code",
   "execution_count": null,
   "id": "44cad985",
   "metadata": {},
   "outputs": [],
   "source": [
    "with pd.option_context('display.max_rows', None, 'display.max_columns', None):  # more options can be specified also\n",
    "  \n",
    "    print(usage_data.ReportName.value_counts())"
   ]
  },
  {
   "cell_type": "code",
   "execution_count": null,
   "id": "acdfe379",
   "metadata": {},
   "outputs": [],
   "source": [
    "freq_reportnames = pd.crosstab(index=usage_data['ReportName'], columns='count') \n",
    "freq_reportnames.sort_values('count', ascending = False).head()"
   ]
  },
  {
   "cell_type": "code",
   "execution_count": null,
   "id": "721079d1",
   "metadata": {},
   "outputs": [],
   "source": [
    "freq_reportnames.hist(column = 'count')"
   ]
  },
  {
   "cell_type": "code",
   "execution_count": null,
   "id": "5284f05a",
   "metadata": {},
   "outputs": [],
   "source": [
    "ax = freq_reportnames.hist(column='count', bins=30, grid=False, figsize=(8,6), color='#0058a4', zorder=2, rwidth=0.9)\n",
    "\n",
    "ax = ax[0]\n",
    "for x in ax:\n",
    "\n",
    "    # Despine\n",
    "    x.spines['right'].set_visible(False)\n",
    "    x.spines['top'].set_visible(False)\n",
    "    x.spines['left'].set_visible(False)\n",
    "\n",
    "    # Switch off ticks\n",
    "    x.tick_params(axis=\"both\", which=\"both\", bottom=\"off\", top=\"off\", labelbottom=\"on\", left=\"off\", right=\"off\", labelleft=\"on\")\n",
    "\n",
    "    # Draw horizontal axis lines\n",
    "    vals = x.get_yticks()\n",
    "    for tick in vals:\n",
    "        x.axhline(y=tick, linestyle='dashed', alpha=0.4, color='#eeeeee', zorder=1)\n",
    "\n",
    "    # Remove title\n",
    "    x.set_title(\"\")\n",
    "\n",
    "    # Set x-axis label\n",
    "    x.set_xlabel(\"Number of Report Views\", labelpad=20, weight='bold', size=12)\n",
    "\n",
    "    # Set y-axis label\n",
    "    x.set_ylabel(\"Number of Reports\", labelpad=20, weight='bold', size=12)\n",
    "\n",
    "    # Format y-axis label\n",
    "    x.yaxis.set_major_formatter(StrMethodFormatter('{x:,g}'))"
   ]
  },
  {
   "cell_type": "code",
   "execution_count": null,
   "id": "34bb5380",
   "metadata": {},
   "outputs": [],
   "source": [
    "freq_users = pd.crosstab(index=usage_data['UserId'], columns='count')\n",
    "ax = freq_users.hist(column='count', bins=30, grid=False, figsize=(8,6), color='#0058a4', zorder=2, rwidth=0.9)\n",
    "\n",
    "ax = ax[0]\n",
    "for x in ax:\n",
    "\n",
    "    # Despine\n",
    "    x.spines['right'].set_visible(False)\n",
    "    x.spines['top'].set_visible(False)\n",
    "    x.spines['left'].set_visible(False)\n",
    "\n",
    "    # Switch off ticks\n",
    "    x.tick_params(axis=\"both\", which=\"both\", bottom=\"off\", top=\"off\", labelbottom=\"on\", left=\"off\", right=\"off\", labelleft=\"on\")\n",
    "\n",
    "    # Draw horizontal axis lines\n",
    "    vals = x.get_yticks()\n",
    "    for tick in vals:\n",
    "        x.axhline(y=tick, linestyle='dashed', alpha=0.4, color='#eeeeee', zorder=1)\n",
    "\n",
    "    # Remove title\n",
    "    x.set_title(\"\")\n",
    "\n",
    "    # Set x-axis label\n",
    "    x.set_xlabel(\"Number of Views\", labelpad=20, weight='bold', size=12)\n",
    "\n",
    "    # Set y-axis label\n",
    "    x.set_ylabel(\"Number of Users\", labelpad=20, weight='bold', size=12)\n",
    "\n",
    "    # Format y-axis label\n",
    "    x.yaxis.set_major_formatter(StrMethodFormatter('{x:,g}'))"
   ]
  },
  {
   "cell_type": "code",
   "execution_count": null,
   "id": "4de21f50",
   "metadata": {},
   "outputs": [],
   "source": [
    "#reduce the dataset to the only contain the features needed\n",
    "\n",
    "usage_data = usage_data.drop(columns = ['Id', 'DatasetId', 'IsSuccess', 'ItemName', 'ObjectId', 'Operation', 'RecordType', 'ReportId', 'RequestId', 'UserId', 'UserType', 'Workload', 'WorkspaceId', 'UserAgent', 'DataflowType', 'DataConnectivityMode', 'ArtifactId', 'ArtifactName', 'ImportDisplayName', 'ImportId', 'ImportSource', 'ImportType', 'DashboardId', 'DashboardName', 'Datasets', 'Schedules', 'DataflowRefreshScheduleType', 'OrganizationId', 'WorkSpaceName'])"
   ]
  },
  {
   "cell_type": "code",
   "execution_count": null,
   "id": "5565f01f",
   "metadata": {},
   "outputs": [],
   "source": [
    "#this dataset is ready to go to PowerBI flow \n",
    "\n",
    "#trusted_datapath = \"/dbfs/mnt/ca/Trusted/CountyAdmin/PBI_usage/\"\n",
    "\n",
    "#usage_data.to_csv(trusted_datapath +'pbi_usagedata.csv')"
   ]
  },
  {
   "cell_type": "markdown",
   "id": "432c9e3c",
   "metadata": {},
   "source": [
    "## Part 3: Recommendation Engine"
   ]
  },
  {
   "cell_type": "code",
   "execution_count": null,
   "id": "0f3cd5db",
   "metadata": {},
   "outputs": [],
   "source": [
    "#if needed\n",
    "#raw_datapath = \"/dbfs/mnt/ca/Raw/CountyAdmin/PBI_usage/\"\n",
    "#refined_datapath = \"/dbfs/mnt/ca/Refined/CountyAdmin/PBI_usage/\"\n",
    "#trusted_datapath = \"/dbfs/mnt/ca/Trusted/CountyAdmin/PBI_usage/\"\n",
    "\n",
    "#load in the csv from refined to start transormations\n",
    "\n",
    "#from refined\n",
    "#usage_data = pd.read_csv(refined_datapath+'pbi_usagedata.csv')\n",
    "\n",
    "#from trusted\n",
    "#usage_data = pd.read_csv(trusted_datapath + 'pbi_usagedata.csv')"
   ]
  },
  {
   "cell_type": "code",
   "execution_count": null,
   "id": "6f2c94e1",
   "metadata": {},
   "outputs": [],
   "source": [
    "usage_data.info()"
   ]
  },
  {
   "cell_type": "code",
   "execution_count": null,
   "id": "657ffd27",
   "metadata": {},
   "outputs": [],
   "source": [
    "def create_view(x):\n",
    "    if x == 'ViewReport':\n",
    "        return 1\n",
    "    else:\n",
    "        return 0\n",
    "\n",
    "usage_data['view'] = usage_data['Activity'].apply(create_view)\n",
    "\n",
    "usage_data.rename(columns = {'ReportName':'Report'}, inplace = True)\n",
    "\n",
    "\n",
    "#reduce the dataset to the only contain the features needed\n",
    "\n",
    "\n",
    "\n",
    "rec_data = usage_data[['Report','UserKey','ApplicationWorkSpace', 'HennAnalytics_access', 'view', 'Activity']]\n",
    "\n",
    "rec_data.head(7)"
   ]
  },
  {
   "cell_type": "code",
   "execution_count": null,
   "id": "77bc615b",
   "metadata": {},
   "outputs": [],
   "source": [
    "rec_data.groupby('Report').agg(\n",
    "    person = ('UserKey', 'nunique'),\n",
    "    views = ('view', 'sum')\n",
    ").sort_values(by = 'views', ascending = False).head(10)\n",
    "\n",
    "rec_data_items = rec_data.pivot_table(index = 'UserKey', columns = ['Report'], values = 'view').fillna(0)\n",
    "rec_data_items.head(25)"
   ]
  },
  {
   "cell_type": "code",
   "execution_count": null,
   "id": "429b1a67",
   "metadata": {},
   "outputs": [],
   "source": [
    "def get_recommendations(df, report):\n",
    "    \"\"\"Create a list of report recommendations \n",
    "        This is using a report-based collaborative filtering algorithm.\n",
    "    \n",
    "    Arguments:\n",
    "        df (dataframe): Pandas dataframe\n",
    "        report (string): Column name for target item. \n",
    "        \n",
    "    Returns: \n",
    "        recommendations (dataframe): Pandas dataframe of report recommendation \n",
    "    \"\"\"\n",
    "    \n",
    "    recommendations = df.corrwith(df[report])\n",
    "    recommendations.dropna(inplace=True)\n",
    "    recommendations = pd.DataFrame(recommendations, columns=['correlation']).reset_index()\n",
    "    recommendations = recommendations.sort_values(by='correlation', ascending=False)\n",
    "    \n",
    "    return recommendations"
   ]
  },
  {
   "cell_type": "code",
   "execution_count": null,
   "id": "4bbc53a1",
   "metadata": {},
   "outputs": [],
   "source": [
    "recommendations = get_recommendations(rec_data_items, 'Enterprise Qualtrics')\n",
    "recommendations.head(6)"
   ]
  },
  {
   "cell_type": "code",
   "execution_count": null,
   "id": "bd3a5638",
   "metadata": {},
   "outputs": [],
   "source": [
    "recommendations = get_recommendations(rec_data_items, 'HC SHAPE 2018 County Results')\n",
    "recommendations.head(6)"
   ]
  },
  {
   "cell_type": "code",
   "execution_count": null,
   "id": "1adeb934",
   "metadata": {},
   "outputs": [],
   "source": [
    "recommendations = get_recommendations(rec_data_items, 'Welcome to Hennepin Analytics')\n",
    "recommendations.head(6)"
   ]
  }
 ],
 "metadata": {
  "kernelspec": {
   "display_name": "Python 3 (ipykernel)",
   "language": "python",
   "name": "python3"
  },
  "language_info": {
   "codemirror_mode": {
    "name": "ipython",
    "version": 3
   },
   "file_extension": ".py",
   "mimetype": "text/x-python",
   "name": "python",
   "nbconvert_exporter": "python",
   "pygments_lexer": "ipython3",
   "version": "3.9.13"
  }
 },
 "nbformat": 4,
 "nbformat_minor": 5
}
